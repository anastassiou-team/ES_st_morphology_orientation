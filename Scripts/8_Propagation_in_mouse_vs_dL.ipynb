{
 "cells": [
  {
   "cell_type": "markdown",
   "id": "c4a12980",
   "metadata": {},
   "source": [
    "We can see that mouse models present the same variance, since optimization is not targeting specific propagation characteristics."
   ]
  },
  {
   "cell_type": "code",
   "execution_count": null,
   "id": "579ed18c",
   "metadata": {},
   "outputs": [],
   "source": [
    "from Functions import *"
   ]
  },
  {
   "cell_type": "markdown",
   "id": "d1c7e94e",
   "metadata": {},
   "source": [
    "Basal conductance sets:"
   ]
  },
  {
   "cell_type": "code",
   "execution_count": null,
   "id": "eb8f6e95",
   "metadata": {
    "scrolled": true
   },
   "outputs": [],
   "source": [
    "plot_dendrite_propagation(file = 'Q')"
   ]
  },
  {
   "cell_type": "markdown",
   "id": "5c2be0b2",
   "metadata": {},
   "source": [
    "Apical conductance sets:"
   ]
  },
  {
   "cell_type": "code",
   "execution_count": null,
   "id": "a1bb5730",
   "metadata": {
    "scrolled": true
   },
   "outputs": [],
   "source": [
    "plot_dendrite_propagation(file = 'R')    "
   ]
  },
  {
   "cell_type": "markdown",
   "id": "5d29c7a9",
   "metadata": {},
   "source": [
    "Axon conductance sets:"
   ]
  },
  {
   "cell_type": "code",
   "execution_count": null,
   "id": "febac7c7",
   "metadata": {},
   "outputs": [],
   "source": [
    "plot_dendrite_propagation(file = 'S')"
   ]
  },
  {
   "cell_type": "markdown",
   "id": "a8172b99",
   "metadata": {},
   "source": [
    "We can clearly see that any type of dentrite might or might not present the effect, whether it is basal or axonal. This eliminates the probability that MO optimization might captured some ground truth by chance. "
   ]
  },
  {
   "cell_type": "markdown",
   "id": "da5adb5e",
   "metadata": {},
   "source": [
    "A final thing that should be considered by future MOO, is the selected dL, which produces a new artifact, non existent in vivo. Discretisation of the cell, makes it behave as a series of interconnected microcells. Each microcel has its own boosting capability, but also its own passive difficulty to get excited."
   ]
  },
  {
   "cell_type": "markdown",
   "id": "65fce7ab",
   "metadata": {},
   "source": [
    "What we have in the dendrite is actually a digital effect of a chain of interconnected monostable oscillators. Monostable means it stays at rest until you push the button, when it makes a spike and goes back to rest until the next button. And that is our effect. A chain of monostable oscillators, where each can push the button of the next one. Each segment acts as one. The transmission loss translated as minimum spike that actually triggers the button, combined with the power of the spikes, as defined by the ion channel parameters, is what defines if boosting happens or not. That is why it is so robust. Because it is not a propagating voltage, it is a propagating trigger in a chain of digital things, with fixed voltage states. That is why it quickly gets regulated to a nominal voltage of 20mv or so. Of course there are the passive stuff in the background, so there is also something propagating, which makes the final shapes wider, but if you see notebook 7 bottom figure, the shape gets instantly wide, and then remains the same. This is not a passive propagation. There is the passive echo of the previous rearby segments, and a fresh local spike. The above mean that the propagation speed of the phenomenon depends only on the rise and fall time of the spike. Which is a huge argument in favor of ephys shape controlling the boosting effect already! However!, the fact that we use separate sets for soma and dendrites, or that we don't know what to do, is against us. I have a feeling that the speed will also heavily depend on the selected dL, which is very bad news in general. If I can show that the same hof behaves differently if I simulate with different dL settings, this means that correct or realistic dL is super important too. But here comes a limit of models. Because real life is an integral, and we approach it with sums."
   ]
  },
  {
   "cell_type": "markdown",
   "id": "750dda60",
   "metadata": {},
   "source": [
    "The distinction between analog and digital is that analog is free in voltage and time. It can be anywhere at any given time.\n",
    "True digital is free in neither. Both voltage and time are quantized. And in electronics exist also the hybrids of \"fixed time, free voltage\" AM and with some imagination also FM (radio). But also the rarely used hybrid of fixed voltage free time, https://en.wikipedia.org/wiki/Delta-sigma_modulation It was more popular when real digital was immature (the AM FM era).\n",
    "Neurons closest resemble this thing I believe. Delta-sigma modulation. Meaning timing is the most important aspect for the communication between cells. And this is an argument in favor of entrainment in general.\n",
    "Our lab teaches me that since we do not have perfect square pulses, maybe the shape, and specifically the rise and fall times and shapes that each cell presents might play a role in the response of the next cell. I would argue that what truly matters is the area under the spike, which is directly proportional to the power, and thus the ability to \"push the button\" of the next cell, and how strongly it does (given the transmission losses as well). So, there might be an analog communication because I can push weak and it gives 1 spike, or strong and it gives 5 (in accordance with delta-sigma modulation)."
   ]
  },
  {
   "cell_type": "markdown",
   "id": "65e1f9ff",
   "metadata": {},
   "source": [
    "Now the above are about communication between cells, but when we apply dL on a morphology, in fact we split it into separate cells, which can demonstrate the same behavior."
   ]
  },
  {
   "cell_type": "markdown",
   "id": "9d88f2d4",
   "metadata": {},
   "source": [
    "digital circuits are made with analog electronics. It is just a circuit with a duty to perform between specific voltage levels and times. Nothing more. You make it with the same components as any other circuit. If the circuit behaves this or that or hybrid, is up to you to tell.\n",
    "Now, each segment in our simulation, is closely resembled in electronics as the monostable I mentioned. Real life monostable circuits also have an analog aspect in its pulse duration. You can make 1ms 100ms whatever. It also has rise and fall time specifications. In electronics we like them as fast and sharp as technology allows. And fall into the category of oscillators, which are digital circuits because operate with fixed times and voltages.\n",
    "https://en.wikipedia.org/wiki/Multivibrator\n",
    "However, the digital circuits today include a billion of things, and oscillators in this story are just clocks for other operations, more elaborate. And a monostable is not even used in a processor. Clocks are bistable oscillators."
   ]
  },
  {
   "cell_type": "markdown",
   "id": "f6a1ac33",
   "metadata": {},
   "source": [
    "So, .."
   ]
  },
  {
   "cell_type": "code",
   "execution_count": null,
   "id": "6135941b",
   "metadata": {},
   "outputs": [],
   "source": [
    "plot_dendrite_propagation_vs_dL()"
   ]
  },
  {
   "cell_type": "markdown",
   "id": "e49f80be",
   "metadata": {},
   "source": [
    "I expected the opposite, bigger dL more boosting."
   ]
  },
  {
   "cell_type": "markdown",
   "id": "fbb017fd",
   "metadata": {},
   "source": [
    "Because bigger dL makes the segment more active. But bigger dL makes also the segment more passive, and we can see that in the lower amplitude of the generated spike. "
   ]
  },
  {
   "cell_type": "code",
   "execution_count": null,
   "id": "ddc138ef",
   "metadata": {},
   "outputs": [],
   "source": []
  }
 ],
 "metadata": {
  "kernelspec": {
   "display_name": "Python 3 (ipykernel)",
   "language": "python",
   "name": "python3"
  },
  "language_info": {
   "codemirror_mode": {
    "name": "ipython",
    "version": 3
   },
   "file_extension": ".py",
   "mimetype": "text/x-python",
   "name": "python",
   "nbconvert_exporter": "python",
   "pygments_lexer": "ipython3",
   "version": "3.10.11"
  }
 },
 "nbformat": 4,
 "nbformat_minor": 5
}
