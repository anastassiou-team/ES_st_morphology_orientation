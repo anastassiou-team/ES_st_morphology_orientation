{
 "cells": [
  {
   "cell_type": "markdown",
   "id": "b53f1860",
   "metadata": {},
   "source": [
    "So far we have seen that passive cable theory can explain the observed subthreshold effects. Next, we saw that those subthreshold effects can predict suprathreshold effects (entrainment) proportionally to the distance between the ES and FR frequencies (something already known in the literature - Arnold tongues).\n",
    "\n",
    "We saw cell type specific effects, similar to in vitro experiments (Soo), however, those experiments were specifically designed to ignore the morphology of the cells. Thus, whether the existing optimized dendrite conductances are capable to conduct, and how well or consistent they do it, remains unknown."
   ]
  },
  {
   "cell_type": "markdown",
   "id": "466daad1",
   "metadata": {},
   "source": [
    "Here, we see that dendrites are not consistently optimized. Thus, ANY previous result should be re-evaluated AFTER the model inconsistencies are addressed. This does not apply only on this flow, but on ANY use of existing models.\n",
    "\n",
    "Synapse experiments, network simulations, extracellular footprints, etc."
   ]
  },
  {
   "cell_type": "code",
   "execution_count": null,
   "id": "579ed18c",
   "metadata": {},
   "outputs": [],
   "source": [
    "from Functions import *"
   ]
  },
  {
   "cell_type": "markdown",
   "id": "38fb48aa",
   "metadata": {},
   "source": [
    "The first test involves the attachment of an artificial, long dendrite at the bottom of each of our 200 cells. Its length is 2mm and its radius is 0.4um.\n",
    "\n",
    "This is an 'illegal' move, since it breaks the ability of the models to perform as optimized. However, all we need them to do, is to create a nice spike, so we can observe how it propagates in our custom long axon. Due to the high amplitude of the spike, this should make it clear, whether the ion conductances have any extra contribution beyond the cable theory model."
   ]
  },
  {
   "cell_type": "code",
   "execution_count": null,
   "id": "52cc0a3d",
   "metadata": {
    "scrolled": true
   },
   "outputs": [],
   "source": [
    "Plot_morphologies()"
   ]
  },
  {
   "cell_type": "markdown",
   "id": "c14d1868",
   "metadata": {},
   "source": [
    "The first thing that we observe is that some cells are upside down. Which should not happen. It remains to be cleared, because in the previous notebooks we talked about prefered axis sensitivities."
   ]
  },
  {
   "cell_type": "markdown",
   "id": "f93cba57",
   "metadata": {},
   "source": [
    "From the entirety of our cells, around 10% is capable to withstand the custom axon addition, without significant impact on their performance. Note that we just instantiated them with an average DC injection of 0.3pA. More cells are able to withstand the axon change if we carefully select a proper DC injection for each. However, for our target, the 17 remaining cells are good to show some conductivity comparisons."
   ]
  },
  {
   "cell_type": "code",
   "execution_count": null,
   "id": "a42dc64e",
   "metadata": {
    "scrolled": true
   },
   "outputs": [],
   "source": [
    "Manual_picked_model_list = [595572609, 720878801, 758319694, 767829778, 911084481, 857664466, 889767432, 1001483877,\n",
    "                            811822915, 695576844, 720855760, 732105067, 767801031, 770622754, 811984547, 868145983, \n",
    "                            737792547, 732141075]\n",
    "all_axon_result = Plot_custom_axon_spikes(Manual_picked_model_list)"
   ]
  },
  {
   "cell_type": "markdown",
   "id": "f2a2ab6c",
   "metadata": {},
   "source": [
    "As shown, we instantiate 5 custom scenarios. 3 passive, with the first one (cm=4) being identical to the early passive simulations (first notebook), while the other two with lower capacitances, in order to investigate the impact of myelination. The last two scenarios copy the active optimized parameters, either from the dendrites or from the soma, for each of the cells."
   ]
  },
  {
   "cell_type": "markdown",
   "id": "a7599cbc",
   "metadata": {},
   "source": [
    "Now we can compare the propagation delay, and the amplitude drop across our custom axon for each case."
   ]
  },
  {
   "cell_type": "code",
   "execution_count": null,
   "id": "0fe17a29",
   "metadata": {
    "scrolled": false
   },
   "outputs": [],
   "source": [
    "Plot_axon_propagation(all_axon_result)"
   ]
  },
  {
   "cell_type": "markdown",
   "id": "33f38e80",
   "metadata": {},
   "source": [
    "Those results are rather interesting. First, if we compare the delay, we see that is always (for all cells and custom axon options) very close to a typical value of 1ms/100um (cross marked), as observed in vivo npx data in humans (Vitalie). We see that the soma set usually shows the lowest delay. The dendrite set usually has the highest delay, almost identical with the high capacitance passive axons, while the low capacitance passive axons stand in between.\n",
    "\n",
    "If we now see the amplitude drop, we see a very quick drop for all passive axons (quicker for higher cm), and unfortunately, the dendrite parameters usually show a response very close to the high cm passive case. **This means that existing optimizations do not give any significant enhancement on the dendrites (compared for example with a perisomatic optimization)**, and explains why our morphology investigations showed very close behavior between active and passive simulations.\n",
    "\n",
    "On the other hand, **soma sets show a nice boosting behavior**, fully desired, especially for axons. At the same time some dendrite sets can also capture this boosting behavior, indicating that future optimizations can use this attenuation restriction as an optimization check point."
   ]
  },
  {
   "cell_type": "markdown",
   "id": "bf10b224",
   "metadata": {},
   "source": [
    "To further support that current models are not consistently optimized towards this aspect, we can use the hall of fame models. If we repeat the above custom axon changes with dendrite parameters across the first 6 hall of fame models for each cell, we will see that there is big amplitude variation, despite the fact that all of them are succesfully optimized to match the ephys set."
   ]
  },
  {
   "cell_type": "code",
   "execution_count": null,
   "id": "5f01e9fb",
   "metadata": {
    "scrolled": true
   },
   "outputs": [],
   "source": [
    "all_axon_result = Plot_custom_axon_spikes(Manual_picked_model_list, hof = True)"
   ]
  },
  {
   "cell_type": "code",
   "execution_count": null,
   "id": "df4ff2ad",
   "metadata": {
    "scrolled": true
   },
   "outputs": [],
   "source": [
    "Plot_axon_propagation(all_axon_result)"
   ]
  },
  {
   "cell_type": "markdown",
   "id": "1bfa5d85",
   "metadata": {},
   "source": [
    "**It seems that most of cells have at least one hof with boosting and one hof without boosting.**"
   ]
  },
  {
   "cell_type": "code",
   "execution_count": null,
   "id": "f9f356b5",
   "metadata": {},
   "outputs": [],
   "source": [
    "Passive_spikes, Active_spikes, psp, asp, msp, msb = plot_HOF_spikes()"
   ]
  },
  {
   "cell_type": "code",
   "execution_count": null,
   "id": "14bfd53f",
   "metadata": {},
   "outputs": [],
   "source": [
    "print (\"Passive responses number = \" + str(psp))\n",
    "print (\"Active responses number = \" + str(asp))\n",
    "print (\"Misbehaving models number = \" + str(msp+msb))"
   ]
  },
  {
   "cell_type": "code",
   "execution_count": null,
   "id": "365e6b49",
   "metadata": {},
   "outputs": [],
   "source": [
    "Plot_consistency(Passive_spikes, Active_spikes)"
   ]
  },
  {
   "cell_type": "markdown",
   "id": "a550efa7",
   "metadata": {},
   "source": [
    "The last step to conclude this story, is to find out which of the above conductances are the correct ones. **An endeavour that can only be concluded when in-vitro experiments provide the required propagation measurements.**"
   ]
  },
  {
   "cell_type": "markdown",
   "id": "e4d7d787",
   "metadata": {},
   "source": [
    "Until then, we can quantify the simulated propagation of our existing models. We use only the custom stick (2mm long), without the original morphology, for all 200 models * 20 hof. We place a point ES probe, injecting pulses close to the center of this custom stick (at 1.25mm from the \"soma\" end), with 1mA amplitude and 0.1ms duration. We record the resulting perturbation at the soma location."
   ]
  },
  {
   "cell_type": "code",
   "execution_count": null,
   "id": "50b1f896",
   "metadata": {
    "scrolled": true
   },
   "outputs": [],
   "source": [
    "plot_dendrite_propagation()"
   ]
  },
  {
   "cell_type": "code",
   "execution_count": null,
   "id": "62383a87",
   "metadata": {
    "scrolled": true
   },
   "outputs": [],
   "source": [
    "plot_custom_dendrite_propagation()"
   ]
  },
  {
   "cell_type": "markdown",
   "id": "b50d9c83",
   "metadata": {},
   "source": [
    "We can see that boosting, if present, is capable to infinitely propagate a spike perturbation, with extreme robustness against dendrite diameter variations. On the other hand it can be faster or slower, it might exist or not in vivo, it might exist only on some types of dendrites/cells, and/or it is likely that real cells have a specific speed that they like. This is why in vitro needs to come first. Until then, we can only assume and mess around."
   ]
  },
  {
   "cell_type": "code",
   "execution_count": null,
   "id": "b035490d",
   "metadata": {},
   "outputs": [],
   "source": []
  }
 ],
 "metadata": {
  "kernelspec": {
   "display_name": "Python 3 (ipykernel)",
   "language": "python",
   "name": "python3"
  },
  "language_info": {
   "codemirror_mode": {
    "name": "ipython",
    "version": 3
   },
   "file_extension": ".py",
   "mimetype": "text/x-python",
   "name": "python",
   "nbconvert_exporter": "python",
   "pygments_lexer": "ipython3",
   "version": "3.10.11"
  }
 },
 "nbformat": 4,
 "nbformat_minor": 5
}
